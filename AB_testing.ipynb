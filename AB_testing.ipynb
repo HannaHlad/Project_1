{
  "metadata": {
    "kernelspec": {
      "name": "python",
      "display_name": "Python (Pyodide)",
      "language": "python"
    },
    "language_info": {
      "codemirror_mode": {
        "name": "python",
        "version": 3
      },
      "file_extension": ".py",
      "mimetype": "text/x-python",
      "name": "python",
      "nbconvert_exporter": "python",
      "pygments_lexer": "ipython3",
      "version": "3.8"
    }
  },
  "nbformat_minor": 4,
  "nbformat": 4,
  "cells": [
    {
      "cell_type": "code",
      "source": "# Проведем A/B–тестирование\n# В ходе тестирования одной гипотезы целевой группе была предложена новая механика оплаты услуг на сайте, у контрольной группы оставалась базовая механика. \n# Проанализируем итоги эксперимента и сделаем вывод, стоит ли запускать новую механику оплаты на всех пользователей.",
      "metadata": {},
      "outputs": [],
      "execution_count": 1
    },
    {
      "cell_type": "code",
      "source": "# Прочитаем имеющиеся файлы и проверим их содержимое, предвариетльно установив необходимые библиотеки\n",
      "metadata": {},
      "outputs": [],
      "execution_count": 10
    },
    {
      "cell_type": "code",
      "source": "%pip install seaborn\nimport pandas as pd\nfrom urllib.parse import urlencode\nimport requests\nimport seaborn as sns\nimport matplotlib.pyplot as plt\nimport numpy as np\nfrom scipy import stats",
      "metadata": {},
      "outputs": [
        {
          "name": "stdout",
          "output_type": "stream",
          "text": "Defaulting to user installation because normal site-packages is not writeable\n,Requirement already satisfied: seaborn in /opt/tljh/user/lib/python3.7/site-packages (0.11.1)\n,Requirement already satisfied: matplotlib>=2.2 in /opt/tljh/user/lib/python3.7/site-packages (from seaborn) (3.2.1)\n,Requirement already satisfied: pandas>=0.23 in /opt/tljh/user/lib/python3.7/site-packages (from seaborn) (1.1.2)\n,Requirement already satisfied: numpy>=1.15 in /opt/tljh/user/lib/python3.7/site-packages (from seaborn) (1.21.2)\n,Requirement already satisfied: scipy>=1.0 in /opt/tljh/user/lib/python3.7/site-packages (from seaborn) (1.7.1)\n,Requirement already satisfied: cycler>=0.10 in /opt/tljh/user/lib/python3.7/site-packages (from matplotlib>=2.2->seaborn) (0.10.0)\n,Requirement already satisfied: kiwisolver>=1.0.1 in /opt/tljh/user/lib/python3.7/site-packages (from matplotlib>=2.2->seaborn) (1.2.0)\n,Requirement already satisfied: pyparsing!=2.0.4,!=2.1.2,!=2.1.6,>=2.0.1 in /opt/tljh/user/lib/python3.7/site-packages (from matplotlib>=2.2->seaborn) (2.4.7)\n,Requirement already satisfied: python-dateutil>=2.1 in /opt/tljh/user/lib/python3.7/site-packages (from matplotlib>=2.2->seaborn) (2.8.1)\n,Requirement already satisfied: six in /opt/tljh/user/lib/python3.7/site-packages (from cycler>=0.10->matplotlib>=2.2->seaborn) (1.12.0)\n,Requirement already satisfied: pytz>=2017.2 in /opt/tljh/user/lib/python3.7/site-packages (from pandas>=0.23->seaborn) (2020.1)\n,\u001b[33mWARNING: You are using pip version 21.2.4; however, version 24.0 is available.\n,You should consider upgrading via the '/opt/tljh/user/bin/python -m pip install --upgrade pip' command.\u001b[0m\n,Note: you may need to restart the kernel to use updated packages.\n"
        }
      ],
      "execution_count": 61
    },
    {
      "cell_type": "code",
      "source": "# Базовый URL API Яндекс.Диска\ndisk_url = \"https://cloud-api.yandex.net/v1/disk/public/resources/download\"\n\n# Ссылка на папку\npublic_key = \"https://disk.yandex.ru/d/XNdgle4oWXrLCA\"\n\n# Файлы и их пути\nfile_paths = {\n    \"groups.csv\": \"/groups.csv\",\n    \"group_add.csv\": \"/group_add.csv\",\n    \"active_studs.csv\": \"/active_studs.csv\",\n    \"checks.csv\": \"/checks.csv\"\n}\n\n# Функция для получения прямой ссылки\ndef get_download_link(public_key, file_path):\n    response = requests.get(disk_url, params={\"public_key\": public_key, \"path\": file_path})\n    if response.status_code == 200:\n        return response.json()[\"href\"]\n    else:\n        print(f\"Ошибка при получении ссылки для {file_path}: {response.status_code}\")\n        return None\n\n# Функция для скачивания файлов\ndef download_file(file_name, download_url):\n    response = requests.get(download_url, allow_redirects=True)\n    if response.status_code == 200:\n        with open(file_name, \"wb\") as file:\n            file.write(response.content)\n        print(f\"Файл {file_name} скачан!\")\n    else:\n        print(f\"Ошибка при скачивании {file_name}: {response.status_code}\")\n\n# Скачивание файлов\nfor file_name, file_path in file_paths.items():\n    download_link = get_download_link(public_key, file_path)\n    if download_link:\n        download_file(file_name, download_link)\n\n# Читаем CSV-файлы в DataFrame\ngroups = pd.read_csv(\"groups.csv\", sep=\";\")\ngroup_add = pd.read_csv(\"group_add.csv\", sep=\",\")  \nactive_studs = pd.read_csv(\"active_studs.csv\", sep=\",\")\nchecks = pd.read_csv(\"checks.csv\", sep=\";\")\n\n# Проверка данных\nprint(groups.head())\nprint(group_add.head())\nprint(active_studs.head())\nprint(checks.head())",
      "metadata": {},
      "outputs": [
        {
          "name": "stdout",
          "output_type": "stream",
          "text": "Файл groups.csv скачан!\n,Файл group_add.csv скачан!\n,Файл active_studs.csv скачан!\n,Файл checks.csv скачан!\n,     id grp\n,0  1489   B\n,1  1627   A\n,2  1768   B\n,3  1783   B\n,4  1794   A\n,        id grp\n,0  5694584   B\n,1  5694830   B\n,2  5695057   B\n,3  5698872   B\n,4  5699067   B\n,   student_id\n,0      581585\n,1     5723133\n,2     3276743\n,3     4238589\n,4     4475369\n,   student_id    rev\n,0        1627  990.0\n,1        3185  690.0\n,2       25973  690.0\n,3       26280  690.0\n,4      100300  990.0\n"
        }
      ],
      "execution_count": 62
    },
    {
      "cell_type": "code",
      "source": "# файл с информацией о принадлежности пользователя к контрольной или экспериментальной группе (А – контроль, B – целевая группа) \ngroups.head()",
      "metadata": {},
      "outputs": [
        {
          "data": {
            "text/html": [
              "<div>\n",
              "<style scoped>\n",
              "    .dataframe tbody tr th:only-of-type {\n",
              "        vertical-align: middle;\n",
              "    }\n",
              "\n",
              "    .dataframe tbody tr th {\n",
              "        vertical-align: top;\n",
              "    }\n",
              "\n",
              "    .dataframe thead th {\n",
              "        text-align: right;\n",
              "    }\n",
              "</style>\n",
              "<table border=\"1\" class=\"dataframe\">\n",
              "  <thead>\n",
              "    <tr style=\"text-align: right;\">\n",
              "      <th></th>\n",
              "      <th>id</th>\n",
              "      <th>grp</th>\n",
              "    </tr>\n",
              "  </thead>\n",
              "  <tbody>\n",
              "    <tr>\n",
              "      <th>0</th>\n",
              "      <td>1489</td>\n",
              "      <td>B</td>\n",
              "    </tr>\n",
              "    <tr>\n",
              "      <th>1</th>\n",
              "      <td>1627</td>\n",
              "      <td>A</td>\n",
              "    </tr>\n",
              "    <tr>\n",
              "      <th>2</th>\n",
              "      <td>1768</td>\n",
              "      <td>B</td>\n",
              "    </tr>\n",
              "    <tr>\n",
              "      <th>3</th>\n",
              "      <td>1783</td>\n",
              "      <td>B</td>\n",
              "    </tr>\n",
              "    <tr>\n",
              "      <th>4</th>\n",
              "      <td>1794</td>\n",
              "      <td>A</td>\n",
              "    </tr>\n",
              "  </tbody>\n",
              "</table>\n",
              "</div>"
            ],
            "text/plain": [
              "     id grp\n",
              "0  1489   B\n",
              "1  1627   A\n",
              "2  1768   B\n",
              "3  1783   B\n",
              "4  1794   A"
            ]
          },
          "execution_count": 63,
          "metadata": {},
          "output_type": "execute_result"
        }
      ],
      "execution_count": 63
    },
    {
      "cell_type": "code",
      "source": "# проверим есть ли в таблице пропущенные значения\nmissing_count = groups.isnull().sum()\nprint(missing_count)",
      "metadata": {},
      "outputs": [
        {
          "name": "stdout",
          "output_type": "stream",
          "text": "id     0\n,grp    0\n,dtype: int64\n"
        }
      ],
      "execution_count": 64
    },
    {
      "cell_type": "code",
      "source": "# проверим наличие дубликатов\ngroups.duplicated().sum()",
      "metadata": {},
      "outputs": [
        {
          "data": {
            "text/plain": [
              "0"
            ]
          },
          "execution_count": 65,
          "metadata": {},
          "output_type": "execute_result"
        }
      ],
      "execution_count": 65
    },
    {
      "cell_type": "code",
      "source": "# найдем количество уникальных id\ngroups.id.nunique()",
      "metadata": {},
      "outputs": [
        {
          "data": {
            "text/plain": [
              "74484"
            ]
          },
          "execution_count": 66,
          "metadata": {},
          "output_type": "execute_result"
        }
      ],
      "execution_count": 66
    },
    {
      "cell_type": "code",
      "source": "# тоже самое продетаем с остальными датасетами\n# рассматриваем дополнительный файл с пользователями, который нам прислали спустя 2 дня после передачи данных\ngroup_add.isna().sum()",
      "metadata": {},
      "outputs": [
        {
          "data": {
            "text/plain": [
              "id     0\n",
              "grp    0\n",
              "dtype: int64"
            ]
          },
          "execution_count": 67,
          "metadata": {},
          "output_type": "execute_result"
        }
      ],
      "execution_count": 67
    },
    {
      "cell_type": "code",
      "source": "group_add.duplicated().sum()",
      "metadata": {},
      "outputs": [
        {
          "data": {
            "text/plain": [
              "0"
            ]
          },
          "execution_count": 68,
          "metadata": {},
          "output_type": "execute_result"
        }
      ],
      "execution_count": 68
    },
    {
      "cell_type": "code",
      "source": "# рассматриваем файл с информацией об оплатах пользователей в дни проведения эксперимента \nchecks.student_id.nunique()\n",
      "metadata": {},
      "outputs": [
        {
          "data": {
            "text/plain": [
              "541"
            ]
          },
          "execution_count": 69,
          "metadata": {},
          "output_type": "execute_result"
        }
      ],
      "execution_count": 69
    },
    {
      "cell_type": "code",
      "source": "checks.isna().sum()",
      "metadata": {},
      "outputs": [
        {
          "data": {
            "text/plain": [
              "student_id    0\n",
              "rev           0\n",
              "dtype: int64"
            ]
          },
          "execution_count": 70,
          "metadata": {},
          "output_type": "execute_result"
        }
      ],
      "execution_count": 70
    },
    {
      "cell_type": "code",
      "source": "checks.duplicated().sum()",
      "metadata": {},
      "outputs": [
        {
          "data": {
            "text/plain": [
              "0"
            ]
          },
          "execution_count": 71,
          "metadata": {},
          "output_type": "execute_result"
        }
      ],
      "execution_count": 71
    },
    {
      "cell_type": "code",
      "source": "# рассматриваем файл с информацией о пользователях, которые зашли на платформу в дни проведения эксперимента\nactive_studs.isna().sum()",
      "metadata": {},
      "outputs": [
        {
          "data": {
            "text/plain": [
              "student_id    0\n",
              "dtype: int64"
            ]
          },
          "execution_count": 72,
          "metadata": {},
          "output_type": "execute_result"
        }
      ],
      "execution_count": 72
    },
    {
      "cell_type": "code",
      "source": "# как мы видим, пропусков и дублей нет. следующий шаг - объединение таблиц\nall_users = groups.merge(group_add, how='outer', on=['id', 'grp'])\nall_users.head()",
      "metadata": {},
      "outputs": [
        {
          "data": {
            "text/html": [
              "<div>\n",
              "<style scoped>\n",
              "    .dataframe tbody tr th:only-of-type {\n",
              "        vertical-align: middle;\n",
              "    }\n",
              "\n",
              "    .dataframe tbody tr th {\n",
              "        vertical-align: top;\n",
              "    }\n",
              "\n",
              "    .dataframe thead th {\n",
              "        text-align: right;\n",
              "    }\n",
              "</style>\n",
              "<table border=\"1\" class=\"dataframe\">\n",
              "  <thead>\n",
              "    <tr style=\"text-align: right;\">\n",
              "      <th></th>\n",
              "      <th>id</th>\n",
              "      <th>grp</th>\n",
              "    </tr>\n",
              "  </thead>\n",
              "  <tbody>\n",
              "    <tr>\n",
              "      <th>0</th>\n",
              "      <td>1489</td>\n",
              "      <td>B</td>\n",
              "    </tr>\n",
              "    <tr>\n",
              "      <th>1</th>\n",
              "      <td>1627</td>\n",
              "      <td>A</td>\n",
              "    </tr>\n",
              "    <tr>\n",
              "      <th>2</th>\n",
              "      <td>1768</td>\n",
              "      <td>B</td>\n",
              "    </tr>\n",
              "    <tr>\n",
              "      <th>3</th>\n",
              "      <td>1783</td>\n",
              "      <td>B</td>\n",
              "    </tr>\n",
              "    <tr>\n",
              "      <th>4</th>\n",
              "      <td>1794</td>\n",
              "      <td>A</td>\n",
              "    </tr>\n",
              "  </tbody>\n",
              "</table>\n",
              "</div>"
            ],
            "text/plain": [
              "     id grp\n",
              "0  1489   B\n",
              "1  1627   A\n",
              "2  1768   B\n",
              "3  1783   B\n",
              "4  1794   A"
            ]
          },
          "execution_count": 73,
          "metadata": {},
          "output_type": "execute_result"
        }
      ],
      "execution_count": 73
    },
    {
      "cell_type": "code",
      "source": "# в соединенном датасете проверим количество пропусков и дубликатов\nall_users.isna().sum()",
      "metadata": {},
      "outputs": [
        {
          "data": {
            "text/plain": [
              "id     0\n",
              "grp    0\n",
              "dtype: int64"
            ]
          },
          "execution_count": 74,
          "metadata": {},
          "output_type": "execute_result"
        }
      ],
      "execution_count": 74
    },
    {
      "cell_type": "code",
      "source": "all_users.duplicated().sum()",
      "metadata": {},
      "outputs": [
        {
          "data": {
            "text/plain": [
              "0"
            ]
          },
          "execution_count": 75,
          "metadata": {},
          "output_type": "execute_result"
        }
      ],
      "execution_count": 75
    },
    {
      "cell_type": "code",
      "source": "# для удобства соединения таблиц перименуем столбцы в табоице active_studs\n# также для удобства фильтрования добавим в датасет active_studs дополнительную калонку \"be_on_platform\" со значением 1, \n# в дальнейшем это поможет нам отобрать только тех пользователей которые были активны в период теста\nactive_studs = active_studs.rename(columns={'student_id': 'id'})\nactive_studs.insert(loc=1, column='be_on_platform', value=1)\nactive_studs.head()",
      "metadata": {},
      "outputs": [
        {
          "data": {
            "text/html": [
              "<div>\n",
              "<style scoped>\n",
              "    .dataframe tbody tr th:only-of-type {\n",
              "        vertical-align: middle;\n",
              "    }\n",
              "\n",
              "    .dataframe tbody tr th {\n",
              "        vertical-align: top;\n",
              "    }\n",
              "\n",
              "    .dataframe thead th {\n",
              "        text-align: right;\n",
              "    }\n",
              "</style>\n",
              "<table border=\"1\" class=\"dataframe\">\n",
              "  <thead>\n",
              "    <tr style=\"text-align: right;\">\n",
              "      <th></th>\n",
              "      <th>id</th>\n",
              "      <th>be_on_platform</th>\n",
              "    </tr>\n",
              "  </thead>\n",
              "  <tbody>\n",
              "    <tr>\n",
              "      <th>0</th>\n",
              "      <td>581585</td>\n",
              "      <td>1</td>\n",
              "    </tr>\n",
              "    <tr>\n",
              "      <th>1</th>\n",
              "      <td>5723133</td>\n",
              "      <td>1</td>\n",
              "    </tr>\n",
              "    <tr>\n",
              "      <th>2</th>\n",
              "      <td>3276743</td>\n",
              "      <td>1</td>\n",
              "    </tr>\n",
              "    <tr>\n",
              "      <th>3</th>\n",
              "      <td>4238589</td>\n",
              "      <td>1</td>\n",
              "    </tr>\n",
              "    <tr>\n",
              "      <th>4</th>\n",
              "      <td>4475369</td>\n",
              "      <td>1</td>\n",
              "    </tr>\n",
              "  </tbody>\n",
              "</table>\n",
              "</div>"
            ],
            "text/plain": [
              "        id  be_on_platform\n",
              "0   581585               1\n",
              "1  5723133               1\n",
              "2  3276743               1\n",
              "3  4238589               1\n",
              "4  4475369               1"
            ]
          },
          "execution_count": 76,
          "metadata": {},
          "output_type": "execute_result"
        }
      ],
      "execution_count": 76
    },
    {
      "cell_type": "code",
      "source": "# также переименуем столбцы в таблице checks\nchecks = checks.rename(columns={'student_id': 'id'})\nchecks.head()",
      "metadata": {},
      "outputs": [
        {
          "data": {
            "text/html": [
              "<div>\n",
              "<style scoped>\n",
              "    .dataframe tbody tr th:only-of-type {\n",
              "        vertical-align: middle;\n",
              "    }\n",
              "\n",
              "    .dataframe tbody tr th {\n",
              "        vertical-align: top;\n",
              "    }\n",
              "\n",
              "    .dataframe thead th {\n",
              "        text-align: right;\n",
              "    }\n",
              "</style>\n",
              "<table border=\"1\" class=\"dataframe\">\n",
              "  <thead>\n",
              "    <tr style=\"text-align: right;\">\n",
              "      <th></th>\n",
              "      <th>id</th>\n",
              "      <th>rev</th>\n",
              "    </tr>\n",
              "  </thead>\n",
              "  <tbody>\n",
              "    <tr>\n",
              "      <th>0</th>\n",
              "      <td>1627</td>\n",
              "      <td>990.0</td>\n",
              "    </tr>\n",
              "    <tr>\n",
              "      <th>1</th>\n",
              "      <td>3185</td>\n",
              "      <td>690.0</td>\n",
              "    </tr>\n",
              "    <tr>\n",
              "      <th>2</th>\n",
              "      <td>25973</td>\n",
              "      <td>690.0</td>\n",
              "    </tr>\n",
              "    <tr>\n",
              "      <th>3</th>\n",
              "      <td>26280</td>\n",
              "      <td>690.0</td>\n",
              "    </tr>\n",
              "    <tr>\n",
              "      <th>4</th>\n",
              "      <td>100300</td>\n",
              "      <td>990.0</td>\n",
              "    </tr>\n",
              "  </tbody>\n",
              "</table>\n",
              "</div>"
            ],
            "text/plain": [
              "       id    rev\n",
              "0    1627  990.0\n",
              "1    3185  690.0\n",
              "2   25973  690.0\n",
              "3   26280  690.0\n",
              "4  100300  990.0"
            ]
          },
          "execution_count": 77,
          "metadata": {},
          "output_type": "execute_result"
        }
      ],
      "execution_count": 77
    },
    {
      "cell_type": "code",
      "source": "# соединим таблицы со всеми пользователями и теми ко зашел в дни теста\nall_users_in_test_days = all_users.merge(active_studs, how='outer', on='id')\nall_users_in_test_days.head()",
      "metadata": {},
      "outputs": [
        {
          "data": {
            "text/html": [
              "<div>\n",
              "<style scoped>\n",
              "    .dataframe tbody tr th:only-of-type {\n",
              "        vertical-align: middle;\n",
              "    }\n",
              "\n",
              "    .dataframe tbody tr th {\n",
              "        vertical-align: top;\n",
              "    }\n",
              "\n",
              "    .dataframe thead th {\n",
              "        text-align: right;\n",
              "    }\n",
              "</style>\n",
              "<table border=\"1\" class=\"dataframe\">\n",
              "  <thead>\n",
              "    <tr style=\"text-align: right;\">\n",
              "      <th></th>\n",
              "      <th>id</th>\n",
              "      <th>grp</th>\n",
              "      <th>be_on_platform</th>\n",
              "    </tr>\n",
              "  </thead>\n",
              "  <tbody>\n",
              "    <tr>\n",
              "      <th>0</th>\n",
              "      <td>1489</td>\n",
              "      <td>B</td>\n",
              "      <td>NaN</td>\n",
              "    </tr>\n",
              "    <tr>\n",
              "      <th>1</th>\n",
              "      <td>1627</td>\n",
              "      <td>A</td>\n",
              "      <td>1.0</td>\n",
              "    </tr>\n",
              "    <tr>\n",
              "      <th>2</th>\n",
              "      <td>1768</td>\n",
              "      <td>B</td>\n",
              "      <td>NaN</td>\n",
              "    </tr>\n",
              "    <tr>\n",
              "      <th>3</th>\n",
              "      <td>1783</td>\n",
              "      <td>B</td>\n",
              "      <td>NaN</td>\n",
              "    </tr>\n",
              "    <tr>\n",
              "      <th>4</th>\n",
              "      <td>1794</td>\n",
              "      <td>A</td>\n",
              "      <td>NaN</td>\n",
              "    </tr>\n",
              "  </tbody>\n",
              "</table>\n",
              "</div>"
            ],
            "text/plain": [
              "     id grp  be_on_platform\n",
              "0  1489   B             NaN\n",
              "1  1627   A             1.0\n",
              "2  1768   B             NaN\n",
              "3  1783   B             NaN\n",
              "4  1794   A             NaN"
            ]
          },
          "execution_count": 78,
          "metadata": {},
          "output_type": "execute_result"
        }
      ],
      "execution_count": 78
    },
    {
      "cell_type": "code",
      "source": "# мы видим, что в ячейках пользователй, которые отсутствовали в дни теста пропуски. заполним их 0\nall_users_in_test_days['be_on_platform'] = all_users_in_test_days['be_on_platform'].fillna(0) \nall_users_in_test_days.head()",
      "metadata": {},
      "outputs": [
        {
          "data": {
            "text/html": [
              "<div>\n",
              "<style scoped>\n",
              "    .dataframe tbody tr th:only-of-type {\n",
              "        vertical-align: middle;\n",
              "    }\n",
              "\n",
              "    .dataframe tbody tr th {\n",
              "        vertical-align: top;\n",
              "    }\n",
              "\n",
              "    .dataframe thead th {\n",
              "        text-align: right;\n",
              "    }\n",
              "</style>\n",
              "<table border=\"1\" class=\"dataframe\">\n",
              "  <thead>\n",
              "    <tr style=\"text-align: right;\">\n",
              "      <th></th>\n",
              "      <th>id</th>\n",
              "      <th>grp</th>\n",
              "      <th>be_on_platform</th>\n",
              "    </tr>\n",
              "  </thead>\n",
              "  <tbody>\n",
              "    <tr>\n",
              "      <th>0</th>\n",
              "      <td>1489</td>\n",
              "      <td>B</td>\n",
              "      <td>0.0</td>\n",
              "    </tr>\n",
              "    <tr>\n",
              "      <th>1</th>\n",
              "      <td>1627</td>\n",
              "      <td>A</td>\n",
              "      <td>1.0</td>\n",
              "    </tr>\n",
              "    <tr>\n",
              "      <th>2</th>\n",
              "      <td>1768</td>\n",
              "      <td>B</td>\n",
              "      <td>0.0</td>\n",
              "    </tr>\n",
              "    <tr>\n",
              "      <th>3</th>\n",
              "      <td>1783</td>\n",
              "      <td>B</td>\n",
              "      <td>0.0</td>\n",
              "    </tr>\n",
              "    <tr>\n",
              "      <th>4</th>\n",
              "      <td>1794</td>\n",
              "      <td>A</td>\n",
              "      <td>0.0</td>\n",
              "    </tr>\n",
              "  </tbody>\n",
              "</table>\n",
              "</div>"
            ],
            "text/plain": [
              "     id grp  be_on_platform\n",
              "0  1489   B             0.0\n",
              "1  1627   A             1.0\n",
              "2  1768   B             0.0\n",
              "3  1783   B             0.0\n",
              "4  1794   A             0.0"
            ]
          },
          "execution_count": 79,
          "metadata": {},
          "output_type": "execute_result"
        }
      ],
      "execution_count": 79
    },
    {
      "cell_type": "code",
      "source": "# далее мы присоединим датасет с оплатами. пропущенные ячейки заполним 0\nall_users_in_test_days = all_users_in_test_days.merge(checks, how='outer', on='id')\nall_users_in_test_days.rev = all_users_in_test_days.rev.fillna(0)\nall_users_in_test_days.head()",
      "metadata": {},
      "outputs": [
        {
          "data": {
            "text/html": [
              "<div>\n",
              "<style scoped>\n",
              "    .dataframe tbody tr th:only-of-type {\n",
              "        vertical-align: middle;\n",
              "    }\n",
              "\n",
              "    .dataframe tbody tr th {\n",
              "        vertical-align: top;\n",
              "    }\n",
              "\n",
              "    .dataframe thead th {\n",
              "        text-align: right;\n",
              "    }\n",
              "</style>\n",
              "<table border=\"1\" class=\"dataframe\">\n",
              "  <thead>\n",
              "    <tr style=\"text-align: right;\">\n",
              "      <th></th>\n",
              "      <th>id</th>\n",
              "      <th>grp</th>\n",
              "      <th>be_on_platform</th>\n",
              "      <th>rev</th>\n",
              "    </tr>\n",
              "  </thead>\n",
              "  <tbody>\n",
              "    <tr>\n",
              "      <th>0</th>\n",
              "      <td>1489</td>\n",
              "      <td>B</td>\n",
              "      <td>0.0</td>\n",
              "      <td>0.0</td>\n",
              "    </tr>\n",
              "    <tr>\n",
              "      <th>1</th>\n",
              "      <td>1627</td>\n",
              "      <td>A</td>\n",
              "      <td>1.0</td>\n",
              "      <td>990.0</td>\n",
              "    </tr>\n",
              "    <tr>\n",
              "      <th>2</th>\n",
              "      <td>1768</td>\n",
              "      <td>B</td>\n",
              "      <td>0.0</td>\n",
              "      <td>0.0</td>\n",
              "    </tr>\n",
              "    <tr>\n",
              "      <th>3</th>\n",
              "      <td>1783</td>\n",
              "      <td>B</td>\n",
              "      <td>0.0</td>\n",
              "      <td>0.0</td>\n",
              "    </tr>\n",
              "    <tr>\n",
              "      <th>4</th>\n",
              "      <td>1794</td>\n",
              "      <td>A</td>\n",
              "      <td>0.0</td>\n",
              "      <td>0.0</td>\n",
              "    </tr>\n",
              "  </tbody>\n",
              "</table>\n",
              "</div>"
            ],
            "text/plain": [
              "     id grp  be_on_platform    rev\n",
              "0  1489   B             0.0    0.0\n",
              "1  1627   A             1.0  990.0\n",
              "2  1768   B             0.0    0.0\n",
              "3  1783   B             0.0    0.0\n",
              "4  1794   A             0.0    0.0"
            ]
          },
          "execution_count": 80,
          "metadata": {},
          "output_type": "execute_result"
        }
      ],
      "execution_count": 80
    },
    {
      "cell_type": "code",
      "source": "#  проверим на сколько успешно прошло соединение таблиц\nall_users_in_test_days.isna().sum()",
      "metadata": {},
      "outputs": [
        {
          "data": {
            "text/plain": [
              "id                0\n",
              "grp               0\n",
              "be_on_platform    0\n",
              "rev               0\n",
              "dtype: int64"
            ]
          },
          "execution_count": 81,
          "metadata": {},
          "output_type": "execute_result"
        }
      ],
      "execution_count": 81
    },
    {
      "cell_type": "code",
      "source": "all_users_in_test_days.duplicated().sum()",
      "metadata": {},
      "outputs": [
        {
          "data": {
            "text/plain": [
              "0"
            ]
          },
          "execution_count": 82,
          "metadata": {},
          "output_type": "execute_result"
        }
      ],
      "execution_count": 82
    },
    {
      "cell_type": "code",
      "source": "# проверим, есть ли пользователи, которые не заходили на платформу во время теста, но совершили платеж\nall_users_in_test_days.query('be_on_platform == 0 and rev!= 0').shape[0] ",
      "metadata": {},
      "outputs": [
        {
          "data": {
            "text/plain": [
              "149"
            ]
          },
          "execution_count": 83,
          "metadata": {},
          "output_type": "execute_result"
        }
      ],
      "execution_count": 83
    },
    {
      "cell_type": "code",
      "source": "# мы видим, что такие пользователи есть, возможно, это ошибка в данных. \n# однако, мы должны взять это во внимание и отфильтровать при дальнейше работе ",
      "metadata": {},
      "outputs": [],
      "execution_count": 84
    },
    {
      "cell_type": "code",
      "source": "# определим количество пользователей, которые были на платформе во время теста\nactive_users = all_users_in_test_days.query('be_on_platform == 1')\nunique_active_users_ids = active_users['id'].nunique()\nprint(f\"Число уникальных id: {unique_active_users_ids}\")",
      "metadata": {},
      "outputs": [
        {
          "name": "stdout",
          "output_type": "stream",
          "text": "Число уникальных id: 8341\n"
        }
      ],
      "execution_count": 85
    },
    {
      "cell_type": "code",
      "source": "active_users.head()",
      "metadata": {},
      "outputs": [
        {
          "data": {
            "text/html": [
              "<div>\n",
              "<style scoped>\n",
              "    .dataframe tbody tr th:only-of-type {\n",
              "        vertical-align: middle;\n",
              "    }\n",
              "\n",
              "    .dataframe tbody tr th {\n",
              "        vertical-align: top;\n",
              "    }\n",
              "\n",
              "    .dataframe thead th {\n",
              "        text-align: right;\n",
              "    }\n",
              "</style>\n",
              "<table border=\"1\" class=\"dataframe\">\n",
              "  <thead>\n",
              "    <tr style=\"text-align: right;\">\n",
              "      <th></th>\n",
              "      <th>id</th>\n",
              "      <th>grp</th>\n",
              "      <th>be_on_platform</th>\n",
              "      <th>rev</th>\n",
              "    </tr>\n",
              "  </thead>\n",
              "  <tbody>\n",
              "    <tr>\n",
              "      <th>1</th>\n",
              "      <td>1627</td>\n",
              "      <td>A</td>\n",
              "      <td>1.0</td>\n",
              "      <td>990.0</td>\n",
              "    </tr>\n",
              "    <tr>\n",
              "      <th>10</th>\n",
              "      <td>2085</td>\n",
              "      <td>B</td>\n",
              "      <td>1.0</td>\n",
              "      <td>0.0</td>\n",
              "    </tr>\n",
              "    <tr>\n",
              "      <th>12</th>\n",
              "      <td>2215</td>\n",
              "      <td>B</td>\n",
              "      <td>1.0</td>\n",
              "      <td>0.0</td>\n",
              "    </tr>\n",
              "    <tr>\n",
              "      <th>43</th>\n",
              "      <td>3391</td>\n",
              "      <td>A</td>\n",
              "      <td>1.0</td>\n",
              "      <td>0.0</td>\n",
              "    </tr>\n",
              "    <tr>\n",
              "      <th>45</th>\n",
              "      <td>3401</td>\n",
              "      <td>B</td>\n",
              "      <td>1.0</td>\n",
              "      <td>0.0</td>\n",
              "    </tr>\n",
              "  </tbody>\n",
              "</table>\n",
              "</div>"
            ],
            "text/plain": [
              "      id grp  be_on_platform    rev\n",
              "1   1627   A             1.0  990.0\n",
              "10  2085   B             1.0    0.0\n",
              "12  2215   B             1.0    0.0\n",
              "43  3391   A             1.0    0.0\n",
              "45  3401   B             1.0    0.0"
            ]
          },
          "execution_count": 86,
          "metadata": {},
          "output_type": "execute_result"
        }
      ],
      "execution_count": 86
    },
    {
      "cell_type": "code",
      "source": "# Подсчет количества студентов в группе A\ngroup_A_count = active_users.query(\"grp == 'A'\").shape[0]\n\n# Подсчет количества студентов в группе B\ngroup_B_count = active_users.query(\"grp == 'B'\").shape[0]\n\nprint(f\"Количество пользователей в группе A: {group_A_count}\")\nprint(f\"Количество пользователей в группе B: {group_B_count}\")",
      "metadata": {},
      "outputs": [
        {
          "name": "stdout",
          "output_type": "stream",
          "text": "Количество пользователей в группе A: 1538\n,Количество пользователей в группе B: 6803\n"
        }
      ],
      "execution_count": 87
    },
    {
      "cell_type": "code",
      "source": "# мы видим, что в группе B пользователей в несколько раз больше",
      "metadata": {},
      "outputs": [],
      "execution_count": 88
    },
    {
      "cell_type": "code",
      "source": "# рассчитаем статистические величины \nstat_describe_active_users = active_users.groupby('grp').rev.describe().reset_index()\nstat_describe_active_users\n",
      "metadata": {},
      "outputs": [
        {
          "data": {
            "text/html": [
              "<div>\n",
              "<style scoped>\n",
              "    .dataframe tbody tr th:only-of-type {\n",
              "        vertical-align: middle;\n",
              "    }\n",
              "\n",
              "    .dataframe tbody tr th {\n",
              "        vertical-align: top;\n",
              "    }\n",
              "\n",
              "    .dataframe thead th {\n",
              "        text-align: right;\n",
              "    }\n",
              "</style>\n",
              "<table border=\"1\" class=\"dataframe\">\n",
              "  <thead>\n",
              "    <tr style=\"text-align: right;\">\n",
              "      <th></th>\n",
              "      <th>grp</th>\n",
              "      <th>count</th>\n",
              "      <th>mean</th>\n",
              "      <th>std</th>\n",
              "      <th>min</th>\n",
              "      <th>25%</th>\n",
              "      <th>50%</th>\n",
              "      <th>75%</th>\n",
              "      <th>max</th>\n",
              "    </tr>\n",
              "  </thead>\n",
              "  <tbody>\n",
              "    <tr>\n",
              "      <th>0</th>\n",
              "      <td>A</td>\n",
              "      <td>1538.0</td>\n",
              "      <td>47.347204</td>\n",
              "      <td>290.490632</td>\n",
              "      <td>0.0</td>\n",
              "      <td>0.0</td>\n",
              "      <td>0.0</td>\n",
              "      <td>0.0</td>\n",
              "      <td>3660.0</td>\n",
              "    </tr>\n",
              "    <tr>\n",
              "      <th>1</th>\n",
              "      <td>B</td>\n",
              "      <td>6803.0</td>\n",
              "      <td>58.058798</td>\n",
              "      <td>313.770201</td>\n",
              "      <td>0.0</td>\n",
              "      <td>0.0</td>\n",
              "      <td>0.0</td>\n",
              "      <td>0.0</td>\n",
              "      <td>4650.0</td>\n",
              "    </tr>\n",
              "  </tbody>\n",
              "</table>\n",
              "</div>"
            ],
            "text/plain": [
              "  grp   count       mean         std  min  25%  50%  75%     max\n",
              "0   A  1538.0  47.347204  290.490632  0.0  0.0  0.0  0.0  3660.0\n",
              "1   B  6803.0  58.058798  313.770201  0.0  0.0  0.0  0.0  4650.0"
            ]
          },
          "execution_count": 89,
          "metadata": {},
          "output_type": "execute_result"
        }
      ],
      "execution_count": 89
    },
    {
      "cell_type": "code",
      "source": "# построим график покупок из обоих групп. по графику мы видим, что большинство пользователей из обеих групп не совершили покупку\nax = sns.boxplot(x='grp', y='rev', data=active_users)\nax.set(xlabel='Группы', ylabel='Выручка')\nsns.despine()",
      "metadata": {},
      "outputs": [
        {
          "data": {
            "image/png": "[encoded data removed]",
            "text/plain": [
              "<Figure size 432x288 with 1 Axes>"
            ]
          },
          "metadata": {},
          "output_type": "display_data"
        }
      ],
      "execution_count": 90
    },
    {
      "cell_type": "code",
      "source": "# далее рассмотрим только тех пользователей, которые совершили оплату\npaying_users = active_users.query('rev != 0')\npaying_users",
      "metadata": {},
      "outputs": [
        {
          "data": {
            "text/html": [
              "<div>\n",
              "<style scoped>\n",
              "    .dataframe tbody tr th:only-of-type {\n",
              "        vertical-align: middle;\n",
              "    }\n",
              "\n",
              "    .dataframe tbody tr th {\n",
              "        vertical-align: top;\n",
              "    }\n",
              "\n",
              "    .dataframe thead th {\n",
              "        text-align: right;\n",
              "    }\n",
              "</style>\n",
              "<table border=\"1\" class=\"dataframe\">\n",
              "  <thead>\n",
              "    <tr style=\"text-align: right;\">\n",
              "      <th></th>\n",
              "      <th>id</th>\n",
              "      <th>grp</th>\n",
              "      <th>be_on_platform</th>\n",
              "      <th>rev</th>\n",
              "    </tr>\n",
              "  </thead>\n",
              "  <tbody>\n",
              "    <tr>\n",
              "      <th>1</th>\n",
              "      <td>1627</td>\n",
              "      <td>A</td>\n",
              "      <td>1.0</td>\n",
              "      <td>990.0000</td>\n",
              "    </tr>\n",
              "    <tr>\n",
              "      <th>220</th>\n",
              "      <td>100300</td>\n",
              "      <td>B</td>\n",
              "      <td>1.0</td>\n",
              "      <td>990.0000</td>\n",
              "    </tr>\n",
              "    <tr>\n",
              "      <th>320</th>\n",
              "      <td>108270</td>\n",
              "      <td>B</td>\n",
              "      <td>1.0</td>\n",
              "      <td>290.0000</td>\n",
              "    </tr>\n",
              "    <tr>\n",
              "      <th>3779</th>\n",
              "      <td>264473</td>\n",
              "      <td>B</td>\n",
              "      <td>1.0</td>\n",
              "      <td>1900.0001</td>\n",
              "    </tr>\n",
              "    <tr>\n",
              "      <th>4187</th>\n",
              "      <td>274352</td>\n",
              "      <td>B</td>\n",
              "      <td>1.0</td>\n",
              "      <td>690.0000</td>\n",
              "    </tr>\n",
              "    <tr>\n",
              "      <th>...</th>\n",
              "      <td>...</td>\n",
              "      <td>...</td>\n",
              "      <td>...</td>\n",
              "      <td>...</td>\n",
              "    </tr>\n",
              "    <tr>\n",
              "      <th>74365</th>\n",
              "      <td>5645737</td>\n",
              "      <td>B</td>\n",
              "      <td>1.0</td>\n",
              "      <td>1900.0000</td>\n",
              "    </tr>\n",
              "    <tr>\n",
              "      <th>74381</th>\n",
              "      <td>5651566</td>\n",
              "      <td>B</td>\n",
              "      <td>1.0</td>\n",
              "      <td>1900.0000</td>\n",
              "    </tr>\n",
              "    <tr>\n",
              "      <th>74402</th>\n",
              "      <td>5662322</td>\n",
              "      <td>B</td>\n",
              "      <td>1.0</td>\n",
              "      <td>1900.0000</td>\n",
              "    </tr>\n",
              "    <tr>\n",
              "      <th>74452</th>\n",
              "      <td>5681918</td>\n",
              "      <td>B</td>\n",
              "      <td>1.0</td>\n",
              "      <td>1900.0000</td>\n",
              "    </tr>\n",
              "    <tr>\n",
              "      <th>74539</th>\n",
              "      <td>5740903</td>\n",
              "      <td>B</td>\n",
              "      <td>1.0</td>\n",
              "      <td>1900.0000</td>\n",
              "    </tr>\n",
              "  </tbody>\n",
              "</table>\n",
              "<p>392 rows × 4 columns</p>\n",
              "</div>"
            ],
            "text/plain": [
              "            id grp  be_on_platform        rev\n",
              "1         1627   A             1.0   990.0000\n",
              "220     100300   B             1.0   990.0000\n",
              "320     108270   B             1.0   290.0000\n",
              "3779    264473   B             1.0  1900.0001\n",
              "4187    274352   B             1.0   690.0000\n",
              "...        ...  ..             ...        ...\n",
              "74365  5645737   B             1.0  1900.0000\n",
              "74381  5651566   B             1.0  1900.0000\n",
              "74402  5662322   B             1.0  1900.0000\n",
              "74452  5681918   B             1.0  1900.0000\n",
              "74539  5740903   B             1.0  1900.0000\n",
              "\n",
              "[392 rows x 4 columns]"
            ]
          },
          "execution_count": 91,
          "metadata": {},
          "output_type": "execute_result"
        }
      ],
      "execution_count": 91
    },
    {
      "cell_type": "code",
      "source": "stat_describe_paying_users = paying_users.groupby('grp').rev.describe().reset_index()\nstat_describe_paying_users",
      "metadata": {},
      "outputs": [
        {
          "data": {
            "text/html": [
              "<div>\n",
              "<style scoped>\n",
              "    .dataframe tbody tr th:only-of-type {\n",
              "        vertical-align: middle;\n",
              "    }\n",
              "\n",
              "    .dataframe tbody tr th {\n",
              "        vertical-align: top;\n",
              "    }\n",
              "\n",
              "    .dataframe thead th {\n",
              "        text-align: right;\n",
              "    }\n",
              "</style>\n",
              "<table border=\"1\" class=\"dataframe\">\n",
              "  <thead>\n",
              "    <tr style=\"text-align: right;\">\n",
              "      <th></th>\n",
              "      <th>grp</th>\n",
              "      <th>count</th>\n",
              "      <th>mean</th>\n",
              "      <th>std</th>\n",
              "      <th>min</th>\n",
              "      <th>25%</th>\n",
              "      <th>50%</th>\n",
              "      <th>75%</th>\n",
              "      <th>max</th>\n",
              "    </tr>\n",
              "  </thead>\n",
              "  <tbody>\n",
              "    <tr>\n",
              "      <th>0</th>\n",
              "      <td>A</td>\n",
              "      <td>78.0</td>\n",
              "      <td>933.589744</td>\n",
              "      <td>919.932711</td>\n",
              "      <td>199.0</td>\n",
              "      <td>290.00</td>\n",
              "      <td>585.0</td>\n",
              "      <td>1114.75</td>\n",
              "      <td>3660.0</td>\n",
              "    </tr>\n",
              "    <tr>\n",
              "      <th>1</th>\n",
              "      <td>B</td>\n",
              "      <td>314.0</td>\n",
              "      <td>1257.878992</td>\n",
              "      <td>790.864254</td>\n",
              "      <td>199.0</td>\n",
              "      <td>511.75</td>\n",
              "      <td>1140.0</td>\n",
              "      <td>1900.00</td>\n",
              "      <td>4650.0</td>\n",
              "    </tr>\n",
              "  </tbody>\n",
              "</table>\n",
              "</div>"
            ],
            "text/plain": [
              "  grp  count         mean         std    min     25%     50%      75%     max\n",
              "0   A   78.0   933.589744  919.932711  199.0  290.00   585.0  1114.75  3660.0\n",
              "1   B  314.0  1257.878992  790.864254  199.0  511.75  1140.0  1900.00  4650.0"
            ]
          },
          "execution_count": 92,
          "metadata": {},
          "output_type": "execute_result"
        }
      ],
      "execution_count": 92
    },
    {
      "cell_type": "code",
      "source": "# подсчитаем кол-во пользователей в группах по платящим\ngroup_A_paying = paying_users.query(\"grp == 'A'\").shape[0]\ngroup_B_paying = paying_users.query(\"grp == 'B'\").shape[0]\n\nprint(f\"Количество платящих пользователей в группе A: {group_A_paying}\")\nprint(f\"Количество платящих пользователей в группе B: {group_B_paying}\")",
      "metadata": {},
      "outputs": [
        {
          "name": "stdout",
          "output_type": "stream",
          "text": "Количество платящих пользователей в группе A: 78\n,Количество платящих пользователей в группе B: 314\n"
        }
      ],
      "execution_count": 93
    },
    {
      "cell_type": "code",
      "source": "# Подсчитаем конверсию в платящего\nconversion_rate_A = (group_A_paying/group_A_count)*100\nconversion_rate_B = (group_B_paying/group_B_count)*100\nprint(f\"Конверсия в платящего в группе A: {conversion_rate_A:.2f}%\")\nprint(f\"Конверсия в платящего в группе B: {conversion_rate_B:.2f}%\")",
      "metadata": {},
      "outputs": [
        {
          "name": "stdout",
          "output_type": "stream",
          "text": "Конверсия в платящего в группе A: 5.07%\n,Конверсия в платящего в группе B: 4.62%\n"
        }
      ],
      "execution_count": 94
    },
    {
      "cell_type": "code",
      "source": "# выделяем контрольную группу\ncontrol_group_A = paying_users.query('grp == \"A\"')\n# отобразим сводную статистику по контрольной группе группе\ncontrol_group_A.describe()\n",
      "metadata": {},
      "outputs": [
        {
          "data": {
            "text/html": [
              "<div>\n",
              "<style scoped>\n",
              "    .dataframe tbody tr th:only-of-type {\n",
              "        vertical-align: middle;\n",
              "    }\n",
              "\n",
              "    .dataframe tbody tr th {\n",
              "        vertical-align: top;\n",
              "    }\n",
              "\n",
              "    .dataframe thead th {\n",
              "        text-align: right;\n",
              "    }\n",
              "</style>\n",
              "<table border=\"1\" class=\"dataframe\">\n",
              "  <thead>\n",
              "    <tr style=\"text-align: right;\">\n",
              "      <th></th>\n",
              "      <th>id</th>\n",
              "      <th>be_on_platform</th>\n",
              "      <th>rev</th>\n",
              "    </tr>\n",
              "  </thead>\n",
              "  <tbody>\n",
              "    <tr>\n",
              "      <th>count</th>\n",
              "      <td>7.800000e+01</td>\n",
              "      <td>78.0</td>\n",
              "      <td>78.000000</td>\n",
              "    </tr>\n",
              "    <tr>\n",
              "      <th>mean</th>\n",
              "      <td>2.924680e+06</td>\n",
              "      <td>1.0</td>\n",
              "      <td>933.589744</td>\n",
              "    </tr>\n",
              "    <tr>\n",
              "      <th>std</th>\n",
              "      <td>1.657487e+06</td>\n",
              "      <td>0.0</td>\n",
              "      <td>919.932711</td>\n",
              "    </tr>\n",
              "    <tr>\n",
              "      <th>min</th>\n",
              "      <td>1.627000e+03</td>\n",
              "      <td>1.0</td>\n",
              "      <td>199.000000</td>\n",
              "    </tr>\n",
              "    <tr>\n",
              "      <th>25%</th>\n",
              "      <td>1.403057e+06</td>\n",
              "      <td>1.0</td>\n",
              "      <td>290.000000</td>\n",
              "    </tr>\n",
              "    <tr>\n",
              "      <th>50%</th>\n",
              "      <td>3.176553e+06</td>\n",
              "      <td>1.0</td>\n",
              "      <td>585.000000</td>\n",
              "    </tr>\n",
              "    <tr>\n",
              "      <th>75%</th>\n",
              "      <td>4.345213e+06</td>\n",
              "      <td>1.0</td>\n",
              "      <td>1114.750000</td>\n",
              "    </tr>\n",
              "    <tr>\n",
              "      <th>max</th>\n",
              "      <td>5.577840e+06</td>\n",
              "      <td>1.0</td>\n",
              "      <td>3660.000000</td>\n",
              "    </tr>\n",
              "  </tbody>\n",
              "</table>\n",
              "</div>"
            ],
            "text/plain": [
              "                 id  be_on_platform          rev\n",
              "count  7.800000e+01            78.0    78.000000\n",
              "mean   2.924680e+06             1.0   933.589744\n",
              "std    1.657487e+06             0.0   919.932711\n",
              "min    1.627000e+03             1.0   199.000000\n",
              "25%    1.403057e+06             1.0   290.000000\n",
              "50%    3.176553e+06             1.0   585.000000\n",
              "75%    4.345213e+06             1.0  1114.750000\n",
              "max    5.577840e+06             1.0  3660.000000"
            ]
          },
          "execution_count": 95,
          "metadata": {},
          "output_type": "execute_result"
        }
      ],
      "execution_count": 95
    },
    {
      "cell_type": "code",
      "source": "# проверим нормальность распределения группы А\nsns.set(style=\"whitegrid\")\n\n# Построение гистограммы с кривой плотности\nplt.figure(figsize=(10, 6))\nsns.histplot(control_group_A['rev'], bins=30, kde=True, stat=\"density\", color='skyblue', edgecolor='black')\nplt.title('Распределение чеков клиентов группы А')\nplt.xlabel('Доход от клиента')\nplt.ylabel('Плотность')\nplt.grid()\nplt.show()",
      "metadata": {},
      "outputs": [
        {
          "data": {
            "image/png": "[encoded data removed]",
            "text/plain": [
              "<Figure size 720x432 with 1 Axes>"
            ]
          },
          "metadata": {},
          "output_type": "display_data"
        }
      ],
      "execution_count": 96
    },
    {
      "cell_type": "code",
      "source": "# выделяем тестовую группу группу\ntest_group_B = paying_users.query('grp == \"B\"')\n# отобразим сводную статистику по тестовой группе\ntest_group_B.describe()\n",
      "metadata": {},
      "outputs": [
        {
          "data": {
            "text/html": [
              "<div>\n",
              "<style scoped>\n",
              "    .dataframe tbody tr th:only-of-type {\n",
              "        vertical-align: middle;\n",
              "    }\n",
              "\n",
              "    .dataframe tbody tr th {\n",
              "        vertical-align: top;\n",
              "    }\n",
              "\n",
              "    .dataframe thead th {\n",
              "        text-align: right;\n",
              "    }\n",
              "</style>\n",
              "<table border=\"1\" class=\"dataframe\">\n",
              "  <thead>\n",
              "    <tr style=\"text-align: right;\">\n",
              "      <th></th>\n",
              "      <th>id</th>\n",
              "      <th>be_on_platform</th>\n",
              "      <th>rev</th>\n",
              "    </tr>\n",
              "  </thead>\n",
              "  <tbody>\n",
              "    <tr>\n",
              "      <th>count</th>\n",
              "      <td>3.140000e+02</td>\n",
              "      <td>314.0</td>\n",
              "      <td>314.000000</td>\n",
              "    </tr>\n",
              "    <tr>\n",
              "      <th>mean</th>\n",
              "      <td>2.829809e+06</td>\n",
              "      <td>1.0</td>\n",
              "      <td>1257.878992</td>\n",
              "    </tr>\n",
              "    <tr>\n",
              "      <th>std</th>\n",
              "      <td>1.610683e+06</td>\n",
              "      <td>0.0</td>\n",
              "      <td>790.864254</td>\n",
              "    </tr>\n",
              "    <tr>\n",
              "      <th>min</th>\n",
              "      <td>1.003000e+05</td>\n",
              "      <td>1.0</td>\n",
              "      <td>199.000000</td>\n",
              "    </tr>\n",
              "    <tr>\n",
              "      <th>25%</th>\n",
              "      <td>1.290454e+06</td>\n",
              "      <td>1.0</td>\n",
              "      <td>511.750000</td>\n",
              "    </tr>\n",
              "    <tr>\n",
              "      <th>50%</th>\n",
              "      <td>3.092955e+06</td>\n",
              "      <td>1.0</td>\n",
              "      <td>1140.000000</td>\n",
              "    </tr>\n",
              "    <tr>\n",
              "      <th>75%</th>\n",
              "      <td>4.192409e+06</td>\n",
              "      <td>1.0</td>\n",
              "      <td>1900.000000</td>\n",
              "    </tr>\n",
              "    <tr>\n",
              "      <th>max</th>\n",
              "      <td>5.740903e+06</td>\n",
              "      <td>1.0</td>\n",
              "      <td>4650.000000</td>\n",
              "    </tr>\n",
              "  </tbody>\n",
              "</table>\n",
              "</div>"
            ],
            "text/plain": [
              "                 id  be_on_platform          rev\n",
              "count  3.140000e+02           314.0   314.000000\n",
              "mean   2.829809e+06             1.0  1257.878992\n",
              "std    1.610683e+06             0.0   790.864254\n",
              "min    1.003000e+05             1.0   199.000000\n",
              "25%    1.290454e+06             1.0   511.750000\n",
              "50%    3.092955e+06             1.0  1140.000000\n",
              "75%    4.192409e+06             1.0  1900.000000\n",
              "max    5.740903e+06             1.0  4650.000000"
            ]
          },
          "execution_count": 97,
          "metadata": {},
          "output_type": "execute_result"
        }
      ],
      "execution_count": 97
    },
    {
      "cell_type": "code",
      "source": "# проверим нормальность распределения группы В\nsns.set(style=\"whitegrid\")\n\n# Построение гистограммы с кривой плотности\nplt.figure(figsize=(10, 6))\nsns.histplot(test_group_B['rev'], bins=30, kde=True, stat=\"density\", color='skyblue', edgecolor='black')\nplt.title('Распределение чеков клиентов группы В')\nplt.xlabel('Доход от клиента')\nplt.ylabel('Плотность')\nplt.grid()\nplt.show()",
      "metadata": {},
      "outputs": [
        {
          "data": {
            "image/png": "[encoded data removed]",
            "text/plain": [
              "<Figure size 720x432 with 1 Axes>"
            ]
          },
          "metadata": {},
          "output_type": "display_data"
        }
      ],
      "execution_count": 98
    },
    {
      "cell_type": "code",
      "source": "# рассчитаем, какой доход мы получилии от каждой группы. мы видим, что группа В принесла больший доход. Это объясняется тем, что кол-во наблюдаемых в этой группе в несколько раз больше. \n# Поэтому в анлизе будем принимать во внимание другие показатели\nrevenue_A = control_group_A.rev.sum()\nrevenue_B = test_group_B.rev.sum()\nprint(f\"Общий доход от группы A: {revenue_A}\")\nprint(f\"Общий доход от группы B: {revenue_B}\")",
      "metadata": {},
      "outputs": [
        {
          "name": "stdout",
          "output_type": "stream",
          "text": "Общий доход от группы A: 72820.0\n,Общий доход от группы B: 394974.0035\n"
        }
      ],
      "execution_count": 99
    },
    {
      "cell_type": "code",
      "source": "# рассчитаем ARPU\narpu_a = (control_group_A.rev.sum() / control_group_A.id.nunique()).round(2)\narpu_b = (test_group_B.rev.sum() / test_group_B.id.nunique()).round(2)\nprint(f\"ARPU группы A: {arpu_a}\")\nprint(f\"ARPU группы B: {arpu_b}\")",
      "metadata": {},
      "outputs": [
        {
          "name": "stdout",
          "output_type": "stream",
          "text": "ARPU группы A: 933.59\n,ARPU группы B: 1257.88\n"
        }
      ],
      "execution_count": 100
    },
    {
      "cell_type": "code",
      "source": "# отобразим графики вместе для визуального удобства\n# Настройка стиля\nsns.set(style=\"whitegrid\")\n\n# Создание графика\nplt.figure(figsize=(12, 6))\n\n# Гистограммы с KDE для обеих групп\nsns.histplot(control_group_A['rev'], bins=30, kde=True, stat=\"density\", color='blue', edgecolor='black', label='Группа A', alpha=0.5)\nsns.histplot(test_group_B['rev'], bins=30, kde=True, stat=\"density\", color='red', edgecolor='black', label='Группа B', alpha=0.5)\n\n# Добавление подписей\nplt.title('Сравнение распределений чеков клиентов (Группа A vs Группа B)', fontsize=14)\nplt.xlabel('Доход от клиента', fontsize=12)\nplt.ylabel('Плотность', fontsize=12)\nplt.legend()  # Легенда для различения групп\nplt.grid(True)\n\n# Показ графика\nplt.show()",
      "metadata": {},
      "outputs": [
        {
          "data": {
            "image/png": "[encoded data removed]",
            "text/plain": [
              "<Figure size 864x432 with 1 Axes>"
            ]
          },
          "metadata": {},
          "output_type": "display_data"
        }
      ],
      "execution_count": 101
    },
    {
      "cell_type": "code",
      "source": "# визуально мы склоняемся к тому, что данные распределены не нормально. проверим эту гипотезу при помощи теста Шапиро-Уилка\n\nshapiro_test_A = stats.shapiro(control_group_A['rev'])\nprint('Статистика теста группы А:', shapiro_test_A.statistic)\nprint('p-значение:', shapiro_test_A.pvalue)\n\n# Интерпретация результата\nalpha = 0.05\nif shapiro_test_A.pvalue > alpha:\n    print(\"Не отклоняем нулевую гипотезу: данные в группе А нормально распределены\")\nelse:\n    print(\"Отклоняем нулевую гипотезу: данные в группе А не нормально распределены\")\n\n\nshapiro_test_B = stats.shapiro(test_group_B['rev'])\nprint('Статистика теста группы А:', shapiro_test_B.statistic)\nprint('p-значение:', shapiro_test_B.pvalue)\n\n# Интерпретация результата\nalpha = 0.05\nif shapiro_test_B.pvalue > alpha:\n    print(\"Не отклоняем нулевую гипотезу: данные в группе B нормально распределены\")\nelse:\n    print(\"Отклоняем нулевую гипотезу: данные в группе B не нормально распределены\")\n",
      "metadata": {},
      "outputs": [
        {
          "name": "stdout",
          "output_type": "stream",
          "text": "Статистика теста группы А: 0.7353236079216003\n,p-значение: 1.4986822893803264e-10\n,Отклоняем нулевую гипотезу: данные в группе А не нормально распределены\n,Статистика теста группы А: 0.8547235727310181\n,p-значение: 1.5437024585965894e-16\n,Отклоняем нулевую гипотезу: данные в группе B не нормально распределены\n"
        }
      ],
      "execution_count": 102
    },
    {
      "cell_type": "code",
      "source": "# мы подтвердили ненормальность распределения ",
      "metadata": {},
      "outputs": [],
      "execution_count": 103
    },
    {
      "cell_type": "code",
      "source": "# сравним медианы групп\nmedian_A = control_group_A['rev'].median()\nmedian_B = test_group_B['rev'].median()\n\nprint(f\"Медиана группы A: {median_A}\")\nprint(f\"Медиана группы B: {median_B}\")\n\nif median_A > median_B:\n print(\"Группа A имеет более высокую медиану.\")\nelse:\n print(\"Группа B имеет более высокую медиану.\")",
      "metadata": {},
      "outputs": [
        {
          "name": "stdout",
          "output_type": "stream",
          "text": "Медиана группы A: 585.0\n,Медиана группы B: 1140.0\n,Группа B имеет более высокую медиану.\n"
        }
      ],
      "execution_count": 104
    },
    {
      "cell_type": "code",
      "source": "# Подсчет количества студентов в группе A\ngroup_A_active_users = active_users.query(\"grp == 'A'\")\ngroup_B_active_users = active_users.query(\"grp == 'B'\")\n\ncontrol_group_A = paying_users.query('grp == \"A\"')\ntest_group_B = paying_users.query('grp == \"B\"')",
      "metadata": {},
      "outputs": [],
      "execution_count": 105
    },
    {
      "cell_type": "code",
      "source": "# также проверим гомогенность дисперсий в группах, чтобы проверить, можем ли мы воспользоваться t-тестом\n# выбираем тест Левене так как менее чувствителен к отклонениям от нормальности\n# H0 - дисперсии равны\n# H1 - дисперсии не равны\n\n# Разделим данные на контрольную и экспериментальную группы\ngroup_A_active_users = active_users.query(\"grp == 'A'\")[\"rev\"]\ngroup_B_active_users = active_users.query(\"grp == 'B'\")[\"rev\"]\n\n# Проверка гомогенности дисперсий с помощью теста Левене пользователей, которые были на платформе во время теста\nlevene_stat, levene_p = stats.levene(group_A_active_users, group_B_active_users)\nprint(f\"Тест Левене: статистика = {levene_stat}, p-значение = {levene_p}\")\n\n# Интерпретация результатов\nalpha = 0.05  # Уровень значимости\nif levene_p < alpha:\n    print(\"Дисперсии не равны (отклоняем нулевую гипотезу) по тесту Левене.\")\nelse:\n    print(\"Дисперсии равны (не отклоняем нулевую гипотезу) по тесту Левене.\")\n",
      "metadata": {},
      "outputs": [
        {
          "name": "stdout",
          "output_type": "stream",
          "text": "Тест Левене: статистика = 1.501460829433639, p-значение = 0.22048133327049665\n,Дисперсии равны (не отклоняем нулевую гипотезу) по тесту Левене.\n"
        }
      ],
      "execution_count": 106
    },
    {
      "cell_type": "code",
      "source": "# тоже самое проверим у пользователей совершивших оплату\n# H0 - дисперсии равны\n# H1 - дисперсии не равны\ncontrol_group_A = paying_users.query('grp == \"A\"')[\"rev\"]\ntest_group_B = paying_users.query('grp == \"B\"')[\"rev\"]\n\nlevene_stat, levene_p = stats.levene(control_group_A, test_group_B)\nprint(f\"Тест Левене: статистика = {levene_stat}, p-значение = {levene_p}\")\n\n# Интерпретация результатов\nalpha = 0.05  # Уровень значимости\nif levene_p < alpha:\n    print(\"Дисперсии не равны (отклоняем нулевую гипотезу) по тесту Левене.\")\nelse:\n    print(\"Дисперсии равны (не отклоняем нулевую гипотезу) по тесту Левене.\")\n",
      "metadata": {},
      "outputs": [
        {
          "name": "stdout",
          "output_type": "stream",
          "text": "Тест Левене: статистика = 3.075681699981606, p-значение = 0.08025675761347022\n,Дисперсии равны (не отклоняем нулевую гипотезу) по тесту Левене.\n"
        }
      ],
      "execution_count": 107
    },
    {
      "cell_type": "code",
      "source": "#  тест пройден и дисперсии оказались равны. таким образом, мы можем применить t-тест",
      "metadata": {},
      "outputs": [],
      "execution_count": 108
    },
    {
      "cell_type": "code",
      "source": "# создадим датафрейм со всеми метриками и сформулируем предположения, которые будем тестировать\na_active_users = active_users.query('grp == \"A\"')\nb_active_users = active_users.query('grp == \"B\"')\n\ncr_a_gr = (a_active_users[a_active_users.rev != 0].rev.count() / a_active_users.rev.count() * 100).round(2)\ncr_b_gr = (b_active_users[b_active_users.rev != 0].rev.count() / b_active_users.rev.count() * 100).round(2)\narpu_a = (a_active_users.rev.sum() / a_active_users.id.nunique()).round(2)\narpu_b = (b_active_users.rev.sum() / b_active_users.id.nunique()).round(2)\nmean_rev_a = a_active_users.query('rev!=0').rev.mean().round(2)\nmean_rev_b = b_active_users.query('rev!=0').rev.mean().round(2)\n\n\n\nmetrics = pd.DataFrame({'group': ['A', 'B'],\n                   'count_users': [stat_describe_active_users['count'][0],\n                                      stat_describe_active_users['count'][1]],\n                   'count_clients': [stat_describe_paying_users['count'][0],\n                                     stat_describe_paying_users['count'][1]],\n                   'CR%': [cr_a_gr, cr_b_gr],\n                   'ARPU': [arpu_a, arpu_b],\n                   'mean_rev': [mean_rev_a, mean_rev_b]})\nmetrics\n",
      "metadata": {},
      "outputs": [
        {
          "data": {
            "text/html": [
              "<div>\n",
              "<style scoped>\n",
              "    .dataframe tbody tr th:only-of-type {\n",
              "        vertical-align: middle;\n",
              "    }\n",
              "\n",
              "    .dataframe tbody tr th {\n",
              "        vertical-align: top;\n",
              "    }\n",
              "\n",
              "    .dataframe thead th {\n",
              "        text-align: right;\n",
              "    }\n",
              "</style>\n",
              "<table border=\"1\" class=\"dataframe\">\n",
              "  <thead>\n",
              "    <tr style=\"text-align: right;\">\n",
              "      <th></th>\n",
              "      <th>group</th>\n",
              "      <th>count_users</th>\n",
              "      <th>count_clients</th>\n",
              "      <th>CR%</th>\n",
              "      <th>ARPU</th>\n",
              "      <th>mean_rev</th>\n",
              "    </tr>\n",
              "  </thead>\n",
              "  <tbody>\n",
              "    <tr>\n",
              "      <th>0</th>\n",
              "      <td>A</td>\n",
              "      <td>1538.0</td>\n",
              "      <td>78.0</td>\n",
              "      <td>5.07</td>\n",
              "      <td>47.35</td>\n",
              "      <td>933.59</td>\n",
              "    </tr>\n",
              "    <tr>\n",
              "      <th>1</th>\n",
              "      <td>B</td>\n",
              "      <td>6803.0</td>\n",
              "      <td>314.0</td>\n",
              "      <td>4.62</td>\n",
              "      <td>58.06</td>\n",
              "      <td>1257.88</td>\n",
              "    </tr>\n",
              "  </tbody>\n",
              "</table>\n",
              "</div>"
            ],
            "text/plain": [
              "  group  count_users  count_clients   CR%   ARPU  mean_rev\n",
              "0     A       1538.0           78.0  5.07  47.35    933.59\n",
              "1     B       6803.0          314.0  4.62  58.06   1257.88"
            ]
          },
          "execution_count": 109,
          "metadata": {},
          "output_type": "execute_result"
        }
      ],
      "execution_count": 109
    },
    {
      "cell_type": "code",
      "source": "# проверим являются ли СR групп статистически значимыми\n# проверим гипотезы\n# Н0 - различий между группами нет\n# Н1 - различия между группами есть\n\n\n# Данные о конверсиях\nconversions_A = a_active_users[a_active_users.rev != 0].rev.count()  # Число конверсий в группе A\nconversions_B = b_active_users[b_active_users.rev != 0].rev.count()  # Число конверсий в группе B\n\n# Общее число пользователей в каждой группе\ntotal_users_A = a_active_users.rev.count()\ntotal_users_B = b_active_users.rev.count()\n\n# Расчет CR (конверсия)\nCR_A = (conversions_A / total_users_A)*100\nCR_B = (conversions_B / total_users_B)*100\n\nprint(f\"CR группы A: {CR_A:.4f}\")\nprint(f\"CR группы B: {CR_B:.4f}\")\n\n# Стандартная ошибка для Z-теста\np_pool = (conversions_A + conversions_B) / (total_users_A + total_users_B)\nSE = np.sqrt(p_pool * (1 - p_pool) * (1 / total_users_A + 1 / total_users_B))\n\n# Z-статистика\nz_score = (CR_B - CR_A) / SE\np_value = 1 - stats.norm.cdf(abs(z_score))  # Односторонний тест\np_value *= 2  # Двусторонний тест\n\nprint(f\"Z-статистика: {z_score:.4f}\")\nprint(f\"P-значение: {p_value:.4f}\")\n\n# Интерпретация результатов\nalpha = 0.05  # Уровень значимости\n\nif p_value < alpha:\n    print(\"Различие в CR между группами статистически значимо!\")\nelse:\n    print(\"Различие в CR между группами НЕ является статистически значимым.\")",
      "metadata": {},
      "outputs": [
        {
          "name": "stdout",
          "output_type": "stream",
          "text": "CR группы A: 5.0715\n,CR группы B: 4.6156\n,Z-статистика: -76.2988\n,P-значение: 0.0000\n,Различие в CR между группами статистически значимо!\n"
        }
      ],
      "execution_count": 110
    },
    {
      "cell_type": "code",
      "source": "# мы видим, что у нас статистически значимые различия между группами и контрольная группа А показала себя лучше\n# смотрим дальше, нас интересует статистические различия между средними чеками пользователей",
      "metadata": {},
      "outputs": [],
      "execution_count": 111
    },
    {
      "cell_type": "code",
      "source": "# проверим статистические различия между чеками пользователй, которые совершили оплату\n# Н0 - различий между средними значениями  платящих пользователей нет\n# Н1 - различия между средними значениями есть\n\n# Выбираем метрику,  доход от клиента (rev)\ncontrol_group_A = paying_users.query('grp == \"A\"')[\"rev\"]\ntest_group_B = paying_users.query('grp == \"B\"')[\"rev\"]\n\n# T-тест\nt_stat, p_value = stats.ttest_ind(control_group_A, test_group_B)\n\nprint(f\"T-статистика: {t_stat:.4f}\")\nprint(f\"P-значение: {p_value:.4f}\")\n\n# Интерпретация результатов\nalpha = 0.05\n\nif p_value < alpha:\n    print(\"Отклоняем Н0. Различие между группами СТАТИСТИЧЕСКИ ЗНАЧИМО!\")\nelse:\n    print(\"Не отклоняем Н0. Различие между группами НЕ является статистически значимым.\")",
      "metadata": {},
      "outputs": [
        {
          "name": "stdout",
          "output_type": "stream",
          "text": "T-статистика: -3.1338\n,P-значение: 0.0019\n,Отклоняем Н0. Различие между группами СТАТИСТИЧЕСКИ ЗНАЧИМО!\n"
        }
      ],
      "execution_count": 112
    },
    {
      "cell_type": "code",
      "source": "# проверим статистические различия между чеками пользователй, которые были на платформе во время теста\n# Н0 - разницы в средних чеках всех пользователей нет\n# Н1 - разница есть\n\n\n# Выбираем метрику,  доход от клиента (rev)\na_active_users = active_users.query('grp == \"A\"')[\"rev\"]\nb_active_users = active_users.query('grp == \"B\"')[\"rev\"]\n\n# T-тест\nt_stat, p_value = stats.ttest_ind(a_active_users, b_active_users)\n\nprint(f\"T-статистика: {t_stat:.4f}\")\nprint(f\"P-значение: {p_value:.4f}\")\n\n# Интерпретация результатов\nalpha = 0.05\n\nif p_value < alpha:\n    print(\"Отклоняем Н0. Различие между группами СТАТИСТИЧЕСКИ ЗНАЧИМО!\")\nelse:\n    print(\"Не отклоняем Н0. Различие между группами НЕ является статистически значимым.\")",
      "metadata": {},
      "outputs": [
        {
          "name": "stdout",
          "output_type": "stream",
          "text": "T-статистика: -1.2253\n,P-значение: 0.2205\n,Не отклоняем Н0. Различие между группами НЕ является статистически значимым.\n"
        }
      ],
      "execution_count": 113
    },
    {
      "cell_type": "code",
      "source": "# Мы можем сделать следующие выводы:\n\n# Мы имеем статистически значимую разницу конверсий в покупку. Контрольная группа проявила себя лучше в этих показателях.\n\n# Статистически значимых значений мы не имеем для всех пользователей присутствующих на платформе, но у нас подтвердились различия \n# в чеках пользователей совершивших оплату. В этих значения тестовая группа показала себя лучше.\n\n# дать однозначный ответ стоит ли выкатывать обновления на всех пользователей на данном этапе невозможно. \n# необходимо получить дополнительную информацию по целям АВ теста, изменениям и тд.\n# я бы еще посмотрела на путь клиента. на каком этапе тестовая группа не доходила до оплаты. \n#возможно, новая механика оплаты некорректно срабатывала на каких-то платформах или операционных системах и тд.\n",
      "metadata": {},
      "outputs": [],
      "execution_count": 114
    },
    {
      "cell_type": "code",
      "source": "",
      "metadata": {},
      "outputs": [],
      "execution_count": null
    },
    {
      "cell_type": "code",
      "source": "",
      "metadata": {},
      "outputs": [],
      "execution_count": null
    }
  ]
}