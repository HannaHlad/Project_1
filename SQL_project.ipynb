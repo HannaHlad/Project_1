{
  "metadata": {
    "kernelspec": {
      "name": "python",
      "display_name": "Python (Pyodide)",
      "language": "python"
    },
    "language_info": {
      "codemirror_mode": {
        "name": "python",
        "version": 3
      },
      "file_extension": ".py",
      "mimetype": "text/x-python",
      "name": "python",
      "nbconvert_exporter": "python",
      "pygments_lexer": "ipython3",
      "version": "3.8"
    }
  },
  "nbformat_minor": 5,
  "nbformat": 4,
  "cells": [
    {
      "id": "22af3d92-4e7e-4e25-b6b8-6b381644960f",
      "cell_type": "code",
      "source": "# Напишем оптимальный запрос, который даст информацию о количестве очень усердных студентов.\n# Под усердным студентом мы понимаем студента, который правильно решил 20 задач за текущий месяц.\nSELECT COUNT(*)\nFROM (\n    SELECT st_id\n    FROM peas\n    WHERE correct = true\n    GROUP BY st_id\n    HAVING COUNT(st_id) >= 20\n) AS subquery\n\n# по итогам запроса мы получили 136 активных студентов",
      "metadata": {
        "trusted": true
      },
      "outputs": [],
      "execution_count": null
    },
    {
      "id": "1fd8ae0b-ee24-4fc1-a6a6-74ba188f032f",
      "cell_type": "code",
      "source": "# В одном запросе выгрузим следующую информацию о группах пользователей:\n#ARPU \n#ARPAU \n#CR в покупку \n#СR активного пользователя в покупку \n#CR пользователя из активности по математике (subject = ’math’) в покупку курса по математике\n\nWITH active_and_math_flags AS (\n    SELECT \n        s.st_id, \n        s.test_grp,\n        SUM(CASE WHEN p.correct = 'true' THEN 1 ELSE 0 END) AS total_correct,\n        SUM(CASE WHEN p.subject = 'Math' AND p.correct = 'true' THEN 1 ELSE 0 END) AS math_correct\n    FROM studs s\n    LEFT JOIN peas p ON s.st_id = p.st_id\n    GROUP BY s.st_id, s.test_grp\n),\nuser_stats AS (\n    SELECT \n        s.test_grp,\n        COUNT(DISTINCT s.st_id) AS all_users,\n        COUNT(DISTINCT CASE WHEN a.total_correct > 10 THEN s.st_id END) AS active_users,\n        COUNT(DISTINCT CASE WHEN a.math_correct >= 2 THEN s.st_id END) AS active_in_math\n    FROM studs s\n    LEFT JOIN active_and_math_flags a ON s.st_id = a.st_id\n    GROUP BY s.test_grp\n),\npayment_stats AS (\n    SELECT \n        s.test_grp,\n        SUM(f.money) AS revenue,\n        COUNT(DISTINCT f.st_id) AS paying_users,\n        SUM(CASE WHEN a.total_correct > 10 THEN f.money ELSE 0 END) AS revenue_from_active,\n        COUNT(DISTINCT CASE WHEN a.total_correct > 10 THEN f.st_id END) AS active_paying_users,\n        COUNT(DISTINCT CASE WHEN a.math_correct >= 2 THEN f.st_id END) AS active_paying_in_math\n    FROM studs s\n    LEFT JOIN final_project_check f ON s.st_id = f.st_id\n    LEFT JOIN active_and_math_flags a ON s.st_id = a.st_id\n    GROUP BY s.test_grp\n)\nSELECT \n    ps.test_grp,\n    ps.revenue / NULLIF(us.all_users, 0) AS ARPU,\n    ps.revenue_from_active / NULLIF(us.active_users, 0) AS ARPAU,\n    (ps.paying_users::float / NULLIF(us.all_users, 0)) * 100 AS CR,\n    (ps.active_paying_users::float / NULLIF(us.active_users, 0)) * 100 AS CR_from_active,\n    (ps.active_paying_in_math::float / NULLIF(us.active_in_math, 0)) * 100 AS CR_math\nFROM \n    payment_stats ps\nJOIN \n    user_stats us ON ps.test_grp = us.test_grp;\n",
      "metadata": {
        "trusted": true
      },
      "outputs": [],
      "execution_count": null
    }
  ]
}